{
 "cells": [
  {
   "cell_type": "markdown",
   "metadata": {},
   "source": [
    "<B/> <span style=\"font-family:Calibri; font-size:2em;\"><font color=\"Blue\"/>Problem Statement"
   ]
  },
  {
   "cell_type": "markdown",
   "metadata": {},
   "source": [
    "<span style=\"font-family:Calibri; font-size:1.2em;\">The dataset contains 6 years of information(weekly stock information) on the stock prices of 10 different Indian Stocks. Calculate the mean and standard deviation on the stock returns and share insights"
   ]
  },
  {
   "cell_type": "markdown",
   "metadata": {},
   "source": [
    "<B/><span style=\"font-family:Calibri; font-size:1.2em;\"><font color='blue'/>Import all Libraries"
   ]
  },
  {
   "cell_type": "code",
   "execution_count": 1,
   "metadata": {},
   "outputs": [],
   "source": [
    "import numpy as np\n",
    "import matplotlib.pyplot as plt\n",
    "import pandas as pd\n",
    "import seaborn as sns # for making plots with seaborn\n",
    "color = sns.color_palette()\n",
    "import sklearn.metrics as metrics\n",
    "\n",
    "import warnings\n",
    "warnings.filterwarnings(\"ignore\")"
   ]
  },
  {
   "cell_type": "markdown",
   "metadata": {},
   "source": [
    "<B/><span style=\"font-family:Calibri; font-size:1.2em;\"><font color='blue'/>Import the dataset"
   ]
  },
  {
   "cell_type": "code",
   "execution_count": 2,
   "metadata": {},
   "outputs": [],
   "source": [
    "stock_prices = pd.read_csv('Market+Risk+Dataset.csv')"
   ]
  },
  {
   "cell_type": "markdown",
   "metadata": {},
   "source": [
    "<B/><span style=\"font-family:Calibri; font-size:1.2em;\"><font color='blue'/>Data head & tail"
   ]
  },
  {
   "cell_type": "code",
   "execution_count": 3,
   "metadata": {},
   "outputs": [
    {
     "data": {
      "text/html": [
       "<div>\n",
       "<style scoped>\n",
       "    .dataframe tbody tr th:only-of-type {\n",
       "        vertical-align: middle;\n",
       "    }\n",
       "\n",
       "    .dataframe tbody tr th {\n",
       "        vertical-align: top;\n",
       "    }\n",
       "\n",
       "    .dataframe thead th {\n",
       "        text-align: right;\n",
       "    }\n",
       "</style>\n",
       "<table border=\"1\" class=\"dataframe\">\n",
       "  <thead>\n",
       "    <tr style=\"text-align: right;\">\n",
       "      <th></th>\n",
       "      <th>Date</th>\n",
       "      <th>Infosys</th>\n",
       "      <th>Indian Hotel</th>\n",
       "      <th>Mahindra &amp; Mahindra</th>\n",
       "      <th>Axis Bank</th>\n",
       "      <th>SAIL</th>\n",
       "      <th>Shree Cement</th>\n",
       "      <th>Sun Pharma</th>\n",
       "      <th>Jindal Steel</th>\n",
       "      <th>Idea Vodafone</th>\n",
       "      <th>Jet Airways</th>\n",
       "    </tr>\n",
       "  </thead>\n",
       "  <tbody>\n",
       "    <tr>\n",
       "      <th>0</th>\n",
       "      <td>31-03-2014</td>\n",
       "      <td>264</td>\n",
       "      <td>69</td>\n",
       "      <td>455</td>\n",
       "      <td>263</td>\n",
       "      <td>68</td>\n",
       "      <td>5543</td>\n",
       "      <td>555</td>\n",
       "      <td>298</td>\n",
       "      <td>83</td>\n",
       "      <td>278</td>\n",
       "    </tr>\n",
       "    <tr>\n",
       "      <th>1</th>\n",
       "      <td>07-04-2014</td>\n",
       "      <td>257</td>\n",
       "      <td>68</td>\n",
       "      <td>458</td>\n",
       "      <td>276</td>\n",
       "      <td>70</td>\n",
       "      <td>5728</td>\n",
       "      <td>610</td>\n",
       "      <td>279</td>\n",
       "      <td>84</td>\n",
       "      <td>303</td>\n",
       "    </tr>\n",
       "    <tr>\n",
       "      <th>2</th>\n",
       "      <td>14-04-2014</td>\n",
       "      <td>254</td>\n",
       "      <td>68</td>\n",
       "      <td>454</td>\n",
       "      <td>270</td>\n",
       "      <td>68</td>\n",
       "      <td>5649</td>\n",
       "      <td>607</td>\n",
       "      <td>279</td>\n",
       "      <td>83</td>\n",
       "      <td>280</td>\n",
       "    </tr>\n",
       "    <tr>\n",
       "      <th>3</th>\n",
       "      <td>21-04-2014</td>\n",
       "      <td>253</td>\n",
       "      <td>68</td>\n",
       "      <td>488</td>\n",
       "      <td>283</td>\n",
       "      <td>68</td>\n",
       "      <td>5692</td>\n",
       "      <td>604</td>\n",
       "      <td>274</td>\n",
       "      <td>83</td>\n",
       "      <td>282</td>\n",
       "    </tr>\n",
       "    <tr>\n",
       "      <th>4</th>\n",
       "      <td>28-04-2014</td>\n",
       "      <td>256</td>\n",
       "      <td>65</td>\n",
       "      <td>482</td>\n",
       "      <td>282</td>\n",
       "      <td>63</td>\n",
       "      <td>5582</td>\n",
       "      <td>611</td>\n",
       "      <td>238</td>\n",
       "      <td>79</td>\n",
       "      <td>243</td>\n",
       "    </tr>\n",
       "  </tbody>\n",
       "</table>\n",
       "</div>"
      ],
      "text/plain": [
       "         Date  Infosys  Indian Hotel  Mahindra & Mahindra  Axis Bank  SAIL  \\\n",
       "0  31-03-2014      264            69                  455        263    68   \n",
       "1  07-04-2014      257            68                  458        276    70   \n",
       "2  14-04-2014      254            68                  454        270    68   \n",
       "3  21-04-2014      253            68                  488        283    68   \n",
       "4  28-04-2014      256            65                  482        282    63   \n",
       "\n",
       "   Shree Cement  Sun Pharma  Jindal Steel  Idea Vodafone  Jet Airways  \n",
       "0          5543         555           298             83          278  \n",
       "1          5728         610           279             84          303  \n",
       "2          5649         607           279             83          280  \n",
       "3          5692         604           274             83          282  \n",
       "4          5582         611           238             79          243  "
      ]
     },
     "execution_count": 3,
     "metadata": {},
     "output_type": "execute_result"
    }
   ],
   "source": [
    "stock_prices.head()"
   ]
  },
  {
   "cell_type": "code",
   "execution_count": 4,
   "metadata": {},
   "outputs": [
    {
     "data": {
      "text/html": [
       "<div>\n",
       "<style scoped>\n",
       "    .dataframe tbody tr th:only-of-type {\n",
       "        vertical-align: middle;\n",
       "    }\n",
       "\n",
       "    .dataframe tbody tr th {\n",
       "        vertical-align: top;\n",
       "    }\n",
       "\n",
       "    .dataframe thead th {\n",
       "        text-align: right;\n",
       "    }\n",
       "</style>\n",
       "<table border=\"1\" class=\"dataframe\">\n",
       "  <thead>\n",
       "    <tr style=\"text-align: right;\">\n",
       "      <th></th>\n",
       "      <th>Date</th>\n",
       "      <th>Infosys</th>\n",
       "      <th>Indian Hotel</th>\n",
       "      <th>Mahindra &amp; Mahindra</th>\n",
       "      <th>Axis Bank</th>\n",
       "      <th>SAIL</th>\n",
       "      <th>Shree Cement</th>\n",
       "      <th>Sun Pharma</th>\n",
       "      <th>Jindal Steel</th>\n",
       "      <th>Idea Vodafone</th>\n",
       "      <th>Jet Airways</th>\n",
       "    </tr>\n",
       "  </thead>\n",
       "  <tbody>\n",
       "    <tr>\n",
       "      <th>309</th>\n",
       "      <td>02-03-2020</td>\n",
       "      <td>729</td>\n",
       "      <td>120</td>\n",
       "      <td>469</td>\n",
       "      <td>658</td>\n",
       "      <td>33</td>\n",
       "      <td>23110</td>\n",
       "      <td>401</td>\n",
       "      <td>146</td>\n",
       "      <td>3</td>\n",
       "      <td>22</td>\n",
       "    </tr>\n",
       "    <tr>\n",
       "      <th>310</th>\n",
       "      <td>09-03-2020</td>\n",
       "      <td>634</td>\n",
       "      <td>114</td>\n",
       "      <td>427</td>\n",
       "      <td>569</td>\n",
       "      <td>30</td>\n",
       "      <td>21308</td>\n",
       "      <td>384</td>\n",
       "      <td>121</td>\n",
       "      <td>6</td>\n",
       "      <td>18</td>\n",
       "    </tr>\n",
       "    <tr>\n",
       "      <th>311</th>\n",
       "      <td>16-03-2020</td>\n",
       "      <td>577</td>\n",
       "      <td>90</td>\n",
       "      <td>321</td>\n",
       "      <td>428</td>\n",
       "      <td>27</td>\n",
       "      <td>18904</td>\n",
       "      <td>365</td>\n",
       "      <td>105</td>\n",
       "      <td>3</td>\n",
       "      <td>16</td>\n",
       "    </tr>\n",
       "    <tr>\n",
       "      <th>312</th>\n",
       "      <td>23-03-2020</td>\n",
       "      <td>644</td>\n",
       "      <td>75</td>\n",
       "      <td>293</td>\n",
       "      <td>360</td>\n",
       "      <td>21</td>\n",
       "      <td>17666</td>\n",
       "      <td>338</td>\n",
       "      <td>89</td>\n",
       "      <td>3</td>\n",
       "      <td>14</td>\n",
       "    </tr>\n",
       "    <tr>\n",
       "      <th>313</th>\n",
       "      <td>30-03-2020</td>\n",
       "      <td>633</td>\n",
       "      <td>75</td>\n",
       "      <td>284</td>\n",
       "      <td>379</td>\n",
       "      <td>23</td>\n",
       "      <td>17546</td>\n",
       "      <td>352</td>\n",
       "      <td>82</td>\n",
       "      <td>3</td>\n",
       "      <td>14</td>\n",
       "    </tr>\n",
       "  </tbody>\n",
       "</table>\n",
       "</div>"
      ],
      "text/plain": [
       "           Date  Infosys  Indian Hotel  Mahindra & Mahindra  Axis Bank  SAIL  \\\n",
       "309  02-03-2020      729           120                  469        658    33   \n",
       "310  09-03-2020      634           114                  427        569    30   \n",
       "311  16-03-2020      577            90                  321        428    27   \n",
       "312  23-03-2020      644            75                  293        360    21   \n",
       "313  30-03-2020      633            75                  284        379    23   \n",
       "\n",
       "     Shree Cement  Sun Pharma  Jindal Steel  Idea Vodafone  Jet Airways  \n",
       "309         23110         401           146              3           22  \n",
       "310         21308         384           121              6           18  \n",
       "311         18904         365           105              3           16  \n",
       "312         17666         338            89              3           14  \n",
       "313         17546         352            82              3           14  "
      ]
     },
     "execution_count": 4,
     "metadata": {},
     "output_type": "execute_result"
    }
   ],
   "source": [
    "stock_prices.tail()"
   ]
  },
  {
   "cell_type": "markdown",
   "metadata": {},
   "source": [
    "<B/><span style=\"font-family:Calibri; font-size:1.2em;\"><font color='blue'/>Shape of the dataset"
   ]
  },
  {
   "cell_type": "code",
   "execution_count": 5,
   "metadata": {},
   "outputs": [
    {
     "data": {
      "text/plain": [
       "(314, 11)"
      ]
     },
     "execution_count": 5,
     "metadata": {},
     "output_type": "execute_result"
    }
   ],
   "source": [
    "stock_prices.shape"
   ]
  },
  {
   "cell_type": "markdown",
   "metadata": {},
   "source": [
    "<B/><span style=\"font-family:Calibri; font-size:1.2em;\"><font color='blue'/>Dataset column header"
   ]
  },
  {
   "cell_type": "code",
   "execution_count": 6,
   "metadata": {},
   "outputs": [
    {
     "data": {
      "text/plain": [
       "Index(['Date', 'Infosys', 'Indian Hotel', 'Mahindra & Mahindra', 'Axis Bank',\n",
       "       'SAIL', 'Shree Cement', 'Sun Pharma', 'Jindal Steel', 'Idea Vodafone',\n",
       "       'Jet Airways'],\n",
       "      dtype='object')"
      ]
     },
     "execution_count": 6,
     "metadata": {},
     "output_type": "execute_result"
    }
   ],
   "source": [
    "stock_prices.columns"
   ]
  },
  {
   "cell_type": "markdown",
   "metadata": {},
   "source": [
    "<B/><span style=\"font-family:Calibri; font-size:1.2em;\"><font color='blue'/>Fixing the messy column header"
   ]
  },
  {
   "cell_type": "code",
   "execution_count": 7,
   "metadata": {},
   "outputs": [],
   "source": [
    "stock_prices.columns = stock_prices.columns.str.strip().str.replace(' ', '_').str.replace('(', '').str.replace(')', '').str.replace('.', '').str.replace('&','')"
   ]
  },
  {
   "cell_type": "code",
   "execution_count": 8,
   "metadata": {},
   "outputs": [
    {
     "data": {
      "text/html": [
       "<div>\n",
       "<style scoped>\n",
       "    .dataframe tbody tr th:only-of-type {\n",
       "        vertical-align: middle;\n",
       "    }\n",
       "\n",
       "    .dataframe tbody tr th {\n",
       "        vertical-align: top;\n",
       "    }\n",
       "\n",
       "    .dataframe thead th {\n",
       "        text-align: right;\n",
       "    }\n",
       "</style>\n",
       "<table border=\"1\" class=\"dataframe\">\n",
       "  <thead>\n",
       "    <tr style=\"text-align: right;\">\n",
       "      <th></th>\n",
       "      <th>Date</th>\n",
       "      <th>Infosys</th>\n",
       "      <th>Indian_Hotel</th>\n",
       "      <th>Mahindra__Mahindra</th>\n",
       "      <th>Axis_Bank</th>\n",
       "      <th>SAIL</th>\n",
       "      <th>Shree_Cement</th>\n",
       "      <th>Sun_Pharma</th>\n",
       "      <th>Jindal_Steel</th>\n",
       "      <th>Idea_Vodafone</th>\n",
       "      <th>Jet_Airways</th>\n",
       "    </tr>\n",
       "  </thead>\n",
       "  <tbody>\n",
       "    <tr>\n",
       "      <th>0</th>\n",
       "      <td>31-03-2014</td>\n",
       "      <td>264</td>\n",
       "      <td>69</td>\n",
       "      <td>455</td>\n",
       "      <td>263</td>\n",
       "      <td>68</td>\n",
       "      <td>5543</td>\n",
       "      <td>555</td>\n",
       "      <td>298</td>\n",
       "      <td>83</td>\n",
       "      <td>278</td>\n",
       "    </tr>\n",
       "    <tr>\n",
       "      <th>1</th>\n",
       "      <td>07-04-2014</td>\n",
       "      <td>257</td>\n",
       "      <td>68</td>\n",
       "      <td>458</td>\n",
       "      <td>276</td>\n",
       "      <td>70</td>\n",
       "      <td>5728</td>\n",
       "      <td>610</td>\n",
       "      <td>279</td>\n",
       "      <td>84</td>\n",
       "      <td>303</td>\n",
       "    </tr>\n",
       "    <tr>\n",
       "      <th>2</th>\n",
       "      <td>14-04-2014</td>\n",
       "      <td>254</td>\n",
       "      <td>68</td>\n",
       "      <td>454</td>\n",
       "      <td>270</td>\n",
       "      <td>68</td>\n",
       "      <td>5649</td>\n",
       "      <td>607</td>\n",
       "      <td>279</td>\n",
       "      <td>83</td>\n",
       "      <td>280</td>\n",
       "    </tr>\n",
       "    <tr>\n",
       "      <th>3</th>\n",
       "      <td>21-04-2014</td>\n",
       "      <td>253</td>\n",
       "      <td>68</td>\n",
       "      <td>488</td>\n",
       "      <td>283</td>\n",
       "      <td>68</td>\n",
       "      <td>5692</td>\n",
       "      <td>604</td>\n",
       "      <td>274</td>\n",
       "      <td>83</td>\n",
       "      <td>282</td>\n",
       "    </tr>\n",
       "    <tr>\n",
       "      <th>4</th>\n",
       "      <td>28-04-2014</td>\n",
       "      <td>256</td>\n",
       "      <td>65</td>\n",
       "      <td>482</td>\n",
       "      <td>282</td>\n",
       "      <td>63</td>\n",
       "      <td>5582</td>\n",
       "      <td>611</td>\n",
       "      <td>238</td>\n",
       "      <td>79</td>\n",
       "      <td>243</td>\n",
       "    </tr>\n",
       "  </tbody>\n",
       "</table>\n",
       "</div>"
      ],
      "text/plain": [
       "         Date  Infosys  Indian_Hotel  Mahindra__Mahindra  Axis_Bank  SAIL  \\\n",
       "0  31-03-2014      264            69                 455        263    68   \n",
       "1  07-04-2014      257            68                 458        276    70   \n",
       "2  14-04-2014      254            68                 454        270    68   \n",
       "3  21-04-2014      253            68                 488        283    68   \n",
       "4  28-04-2014      256            65                 482        282    63   \n",
       "\n",
       "   Shree_Cement  Sun_Pharma  Jindal_Steel  Idea_Vodafone  Jet_Airways  \n",
       "0          5543         555           298             83          278  \n",
       "1          5728         610           279             84          303  \n",
       "2          5649         607           279             83          280  \n",
       "3          5692         604           274             83          282  \n",
       "4          5582         611           238             79          243  "
      ]
     },
     "execution_count": 8,
     "metadata": {},
     "output_type": "execute_result"
    }
   ],
   "source": [
    "stock_prices.head()"
   ]
  },
  {
   "cell_type": "markdown",
   "metadata": {},
   "source": [
    "<B/><span style=\"font-family:Calibri; font-size:1.2em;\"><font color='blue'/>Check the number of rows (observations) and the number of columns (variables)"
   ]
  },
  {
   "cell_type": "code",
   "execution_count": 9,
   "metadata": {},
   "outputs": [
    {
     "name": "stdout",
     "output_type": "stream",
     "text": [
      "The number of rows (observations) is 314 \n",
      "The number of columns (variables) is 11\n"
     ]
    }
   ],
   "source": [
    "print('The number of rows (observations) is',stock_prices.shape[0],'\\n''The number of columns (variables) is',stock_prices.shape[1])"
   ]
  },
  {
   "cell_type": "markdown",
   "metadata": {},
   "source": [
    "<B/><span style=\"font-family:Calibri; font-size:1.2em;\"><font color='blue'/>Checking the data type of the dataset"
   ]
  },
  {
   "cell_type": "code",
   "execution_count": 10,
   "metadata": {},
   "outputs": [
    {
     "name": "stdout",
     "output_type": "stream",
     "text": [
      "<class 'pandas.core.frame.DataFrame'>\n",
      "RangeIndex: 314 entries, 0 to 313\n",
      "Data columns (total 11 columns):\n",
      " #   Column              Non-Null Count  Dtype \n",
      "---  ------              --------------  ----- \n",
      " 0   Date                314 non-null    object\n",
      " 1   Infosys             314 non-null    int64 \n",
      " 2   Indian_Hotel        314 non-null    int64 \n",
      " 3   Mahindra__Mahindra  314 non-null    int64 \n",
      " 4   Axis_Bank           314 non-null    int64 \n",
      " 5   SAIL                314 non-null    int64 \n",
      " 6   Shree_Cement        314 non-null    int64 \n",
      " 7   Sun_Pharma          314 non-null    int64 \n",
      " 8   Jindal_Steel        314 non-null    int64 \n",
      " 9   Idea_Vodafone       314 non-null    int64 \n",
      " 10  Jet_Airways         314 non-null    int64 \n",
      "dtypes: int64(10), object(1)\n",
      "memory usage: 27.1+ KB\n"
     ]
    }
   ],
   "source": [
    "stock_prices.info()"
   ]
  },
  {
   "cell_type": "markdown",
   "metadata": {},
   "source": [
    "<B/><span style=\"font-family:Calibri; font-size:1.2em;\"><font color='blue'/>Statistical analysis of the dataset"
   ]
  },
  {
   "cell_type": "code",
   "execution_count": 11,
   "metadata": {},
   "outputs": [
    {
     "data": {
      "text/html": [
       "<div>\n",
       "<style scoped>\n",
       "    .dataframe tbody tr th:only-of-type {\n",
       "        vertical-align: middle;\n",
       "    }\n",
       "\n",
       "    .dataframe tbody tr th {\n",
       "        vertical-align: top;\n",
       "    }\n",
       "\n",
       "    .dataframe thead th {\n",
       "        text-align: right;\n",
       "    }\n",
       "</style>\n",
       "<table border=\"1\" class=\"dataframe\">\n",
       "  <thead>\n",
       "    <tr style=\"text-align: right;\">\n",
       "      <th></th>\n",
       "      <th>Date</th>\n",
       "      <th>Infosys</th>\n",
       "      <th>Indian_Hotel</th>\n",
       "      <th>Mahindra__Mahindra</th>\n",
       "      <th>Axis_Bank</th>\n",
       "      <th>SAIL</th>\n",
       "      <th>Shree_Cement</th>\n",
       "      <th>Sun_Pharma</th>\n",
       "      <th>Jindal_Steel</th>\n",
       "      <th>Idea_Vodafone</th>\n",
       "      <th>Jet_Airways</th>\n",
       "    </tr>\n",
       "  </thead>\n",
       "  <tbody>\n",
       "    <tr>\n",
       "      <th>count</th>\n",
       "      <td>314</td>\n",
       "      <td>314.000000</td>\n",
       "      <td>314.000000</td>\n",
       "      <td>314.000000</td>\n",
       "      <td>314.000000</td>\n",
       "      <td>314.000000</td>\n",
       "      <td>314.000000</td>\n",
       "      <td>314.000000</td>\n",
       "      <td>314.000000</td>\n",
       "      <td>314.000000</td>\n",
       "      <td>314.000000</td>\n",
       "    </tr>\n",
       "    <tr>\n",
       "      <th>unique</th>\n",
       "      <td>314</td>\n",
       "      <td>NaN</td>\n",
       "      <td>NaN</td>\n",
       "      <td>NaN</td>\n",
       "      <td>NaN</td>\n",
       "      <td>NaN</td>\n",
       "      <td>NaN</td>\n",
       "      <td>NaN</td>\n",
       "      <td>NaN</td>\n",
       "      <td>NaN</td>\n",
       "      <td>NaN</td>\n",
       "    </tr>\n",
       "    <tr>\n",
       "      <th>top</th>\n",
       "      <td>15-01-2018</td>\n",
       "      <td>NaN</td>\n",
       "      <td>NaN</td>\n",
       "      <td>NaN</td>\n",
       "      <td>NaN</td>\n",
       "      <td>NaN</td>\n",
       "      <td>NaN</td>\n",
       "      <td>NaN</td>\n",
       "      <td>NaN</td>\n",
       "      <td>NaN</td>\n",
       "      <td>NaN</td>\n",
       "    </tr>\n",
       "    <tr>\n",
       "      <th>freq</th>\n",
       "      <td>1</td>\n",
       "      <td>NaN</td>\n",
       "      <td>NaN</td>\n",
       "      <td>NaN</td>\n",
       "      <td>NaN</td>\n",
       "      <td>NaN</td>\n",
       "      <td>NaN</td>\n",
       "      <td>NaN</td>\n",
       "      <td>NaN</td>\n",
       "      <td>NaN</td>\n",
       "      <td>NaN</td>\n",
       "    </tr>\n",
       "    <tr>\n",
       "      <th>mean</th>\n",
       "      <td>NaN</td>\n",
       "      <td>511.340764</td>\n",
       "      <td>114.560510</td>\n",
       "      <td>636.678344</td>\n",
       "      <td>540.742038</td>\n",
       "      <td>59.095541</td>\n",
       "      <td>14806.410828</td>\n",
       "      <td>633.468153</td>\n",
       "      <td>147.627389</td>\n",
       "      <td>53.713376</td>\n",
       "      <td>372.659236</td>\n",
       "    </tr>\n",
       "    <tr>\n",
       "      <th>std</th>\n",
       "      <td>NaN</td>\n",
       "      <td>135.952051</td>\n",
       "      <td>22.509732</td>\n",
       "      <td>102.879975</td>\n",
       "      <td>115.835569</td>\n",
       "      <td>15.810493</td>\n",
       "      <td>4288.275085</td>\n",
       "      <td>171.855893</td>\n",
       "      <td>65.879195</td>\n",
       "      <td>31.248985</td>\n",
       "      <td>202.262668</td>\n",
       "    </tr>\n",
       "    <tr>\n",
       "      <th>min</th>\n",
       "      <td>NaN</td>\n",
       "      <td>234.000000</td>\n",
       "      <td>64.000000</td>\n",
       "      <td>284.000000</td>\n",
       "      <td>263.000000</td>\n",
       "      <td>21.000000</td>\n",
       "      <td>5543.000000</td>\n",
       "      <td>338.000000</td>\n",
       "      <td>53.000000</td>\n",
       "      <td>3.000000</td>\n",
       "      <td>14.000000</td>\n",
       "    </tr>\n",
       "    <tr>\n",
       "      <th>25%</th>\n",
       "      <td>NaN</td>\n",
       "      <td>424.000000</td>\n",
       "      <td>96.000000</td>\n",
       "      <td>572.000000</td>\n",
       "      <td>470.500000</td>\n",
       "      <td>47.000000</td>\n",
       "      <td>10952.250000</td>\n",
       "      <td>478.500000</td>\n",
       "      <td>88.250000</td>\n",
       "      <td>25.250000</td>\n",
       "      <td>243.250000</td>\n",
       "    </tr>\n",
       "    <tr>\n",
       "      <th>50%</th>\n",
       "      <td>NaN</td>\n",
       "      <td>466.500000</td>\n",
       "      <td>115.000000</td>\n",
       "      <td>625.000000</td>\n",
       "      <td>528.000000</td>\n",
       "      <td>57.000000</td>\n",
       "      <td>16018.500000</td>\n",
       "      <td>614.000000</td>\n",
       "      <td>142.500000</td>\n",
       "      <td>53.000000</td>\n",
       "      <td>376.000000</td>\n",
       "    </tr>\n",
       "    <tr>\n",
       "      <th>75%</th>\n",
       "      <td>NaN</td>\n",
       "      <td>630.750000</td>\n",
       "      <td>134.000000</td>\n",
       "      <td>678.000000</td>\n",
       "      <td>605.250000</td>\n",
       "      <td>71.750000</td>\n",
       "      <td>17773.250000</td>\n",
       "      <td>785.000000</td>\n",
       "      <td>182.750000</td>\n",
       "      <td>82.000000</td>\n",
       "      <td>534.000000</td>\n",
       "    </tr>\n",
       "    <tr>\n",
       "      <th>max</th>\n",
       "      <td>NaN</td>\n",
       "      <td>810.000000</td>\n",
       "      <td>157.000000</td>\n",
       "      <td>956.000000</td>\n",
       "      <td>808.000000</td>\n",
       "      <td>104.000000</td>\n",
       "      <td>24806.000000</td>\n",
       "      <td>1089.000000</td>\n",
       "      <td>338.000000</td>\n",
       "      <td>117.000000</td>\n",
       "      <td>871.000000</td>\n",
       "    </tr>\n",
       "  </tbody>\n",
       "</table>\n",
       "</div>"
      ],
      "text/plain": [
       "              Date     Infosys  Indian_Hotel  Mahindra__Mahindra   Axis_Bank  \\\n",
       "count          314  314.000000    314.000000          314.000000  314.000000   \n",
       "unique         314         NaN           NaN                 NaN         NaN   \n",
       "top     15-01-2018         NaN           NaN                 NaN         NaN   \n",
       "freq             1         NaN           NaN                 NaN         NaN   \n",
       "mean           NaN  511.340764    114.560510          636.678344  540.742038   \n",
       "std            NaN  135.952051     22.509732          102.879975  115.835569   \n",
       "min            NaN  234.000000     64.000000          284.000000  263.000000   \n",
       "25%            NaN  424.000000     96.000000          572.000000  470.500000   \n",
       "50%            NaN  466.500000    115.000000          625.000000  528.000000   \n",
       "75%            NaN  630.750000    134.000000          678.000000  605.250000   \n",
       "max            NaN  810.000000    157.000000          956.000000  808.000000   \n",
       "\n",
       "              SAIL  Shree_Cement   Sun_Pharma  Jindal_Steel  Idea_Vodafone  \\\n",
       "count   314.000000    314.000000   314.000000    314.000000     314.000000   \n",
       "unique         NaN           NaN          NaN           NaN            NaN   \n",
       "top            NaN           NaN          NaN           NaN            NaN   \n",
       "freq           NaN           NaN          NaN           NaN            NaN   \n",
       "mean     59.095541  14806.410828   633.468153    147.627389      53.713376   \n",
       "std      15.810493   4288.275085   171.855893     65.879195      31.248985   \n",
       "min      21.000000   5543.000000   338.000000     53.000000       3.000000   \n",
       "25%      47.000000  10952.250000   478.500000     88.250000      25.250000   \n",
       "50%      57.000000  16018.500000   614.000000    142.500000      53.000000   \n",
       "75%      71.750000  17773.250000   785.000000    182.750000      82.000000   \n",
       "max     104.000000  24806.000000  1089.000000    338.000000     117.000000   \n",
       "\n",
       "        Jet_Airways  \n",
       "count    314.000000  \n",
       "unique          NaN  \n",
       "top             NaN  \n",
       "freq            NaN  \n",
       "mean     372.659236  \n",
       "std      202.262668  \n",
       "min       14.000000  \n",
       "25%      243.250000  \n",
       "50%      376.000000  \n",
       "75%      534.000000  \n",
       "max      871.000000  "
      ]
     },
     "execution_count": 11,
     "metadata": {},
     "output_type": "execute_result"
    }
   ],
   "source": [
    "stock_prices.describe(include='all')"
   ]
  },
  {
   "cell_type": "code",
   "execution_count": 12,
   "metadata": {},
   "outputs": [
    {
     "data": {
      "text/html": [
       "<div>\n",
       "<style scoped>\n",
       "    .dataframe tbody tr th:only-of-type {\n",
       "        vertical-align: middle;\n",
       "    }\n",
       "\n",
       "    .dataframe tbody tr th {\n",
       "        vertical-align: top;\n",
       "    }\n",
       "\n",
       "    .dataframe thead th {\n",
       "        text-align: right;\n",
       "    }\n",
       "</style>\n",
       "<table border=\"1\" class=\"dataframe\">\n",
       "  <thead>\n",
       "    <tr style=\"text-align: right;\">\n",
       "      <th></th>\n",
       "      <th>Infosys</th>\n",
       "      <th>Indian_Hotel</th>\n",
       "      <th>Mahindra__Mahindra</th>\n",
       "      <th>Axis_Bank</th>\n",
       "      <th>SAIL</th>\n",
       "      <th>Shree_Cement</th>\n",
       "      <th>Sun_Pharma</th>\n",
       "      <th>Jindal_Steel</th>\n",
       "      <th>Idea_Vodafone</th>\n",
       "      <th>Jet_Airways</th>\n",
       "    </tr>\n",
       "  </thead>\n",
       "  <tbody>\n",
       "    <tr>\n",
       "      <th>count</th>\n",
       "      <td>314.000000</td>\n",
       "      <td>314.000000</td>\n",
       "      <td>314.000000</td>\n",
       "      <td>314.000000</td>\n",
       "      <td>314.000000</td>\n",
       "      <td>314.000000</td>\n",
       "      <td>314.000000</td>\n",
       "      <td>314.000000</td>\n",
       "      <td>314.000000</td>\n",
       "      <td>314.000000</td>\n",
       "    </tr>\n",
       "    <tr>\n",
       "      <th>mean</th>\n",
       "      <td>511.340764</td>\n",
       "      <td>114.560510</td>\n",
       "      <td>636.678344</td>\n",
       "      <td>540.742038</td>\n",
       "      <td>59.095541</td>\n",
       "      <td>14806.410828</td>\n",
       "      <td>633.468153</td>\n",
       "      <td>147.627389</td>\n",
       "      <td>53.713376</td>\n",
       "      <td>372.659236</td>\n",
       "    </tr>\n",
       "    <tr>\n",
       "      <th>std</th>\n",
       "      <td>135.952051</td>\n",
       "      <td>22.509732</td>\n",
       "      <td>102.879975</td>\n",
       "      <td>115.835569</td>\n",
       "      <td>15.810493</td>\n",
       "      <td>4288.275085</td>\n",
       "      <td>171.855893</td>\n",
       "      <td>65.879195</td>\n",
       "      <td>31.248985</td>\n",
       "      <td>202.262668</td>\n",
       "    </tr>\n",
       "    <tr>\n",
       "      <th>min</th>\n",
       "      <td>234.000000</td>\n",
       "      <td>64.000000</td>\n",
       "      <td>284.000000</td>\n",
       "      <td>263.000000</td>\n",
       "      <td>21.000000</td>\n",
       "      <td>5543.000000</td>\n",
       "      <td>338.000000</td>\n",
       "      <td>53.000000</td>\n",
       "      <td>3.000000</td>\n",
       "      <td>14.000000</td>\n",
       "    </tr>\n",
       "    <tr>\n",
       "      <th>25%</th>\n",
       "      <td>424.000000</td>\n",
       "      <td>96.000000</td>\n",
       "      <td>572.000000</td>\n",
       "      <td>470.500000</td>\n",
       "      <td>47.000000</td>\n",
       "      <td>10952.250000</td>\n",
       "      <td>478.500000</td>\n",
       "      <td>88.250000</td>\n",
       "      <td>25.250000</td>\n",
       "      <td>243.250000</td>\n",
       "    </tr>\n",
       "    <tr>\n",
       "      <th>50%</th>\n",
       "      <td>466.500000</td>\n",
       "      <td>115.000000</td>\n",
       "      <td>625.000000</td>\n",
       "      <td>528.000000</td>\n",
       "      <td>57.000000</td>\n",
       "      <td>16018.500000</td>\n",
       "      <td>614.000000</td>\n",
       "      <td>142.500000</td>\n",
       "      <td>53.000000</td>\n",
       "      <td>376.000000</td>\n",
       "    </tr>\n",
       "    <tr>\n",
       "      <th>75%</th>\n",
       "      <td>630.750000</td>\n",
       "      <td>134.000000</td>\n",
       "      <td>678.000000</td>\n",
       "      <td>605.250000</td>\n",
       "      <td>71.750000</td>\n",
       "      <td>17773.250000</td>\n",
       "      <td>785.000000</td>\n",
       "      <td>182.750000</td>\n",
       "      <td>82.000000</td>\n",
       "      <td>534.000000</td>\n",
       "    </tr>\n",
       "    <tr>\n",
       "      <th>max</th>\n",
       "      <td>810.000000</td>\n",
       "      <td>157.000000</td>\n",
       "      <td>956.000000</td>\n",
       "      <td>808.000000</td>\n",
       "      <td>104.000000</td>\n",
       "      <td>24806.000000</td>\n",
       "      <td>1089.000000</td>\n",
       "      <td>338.000000</td>\n",
       "      <td>117.000000</td>\n",
       "      <td>871.000000</td>\n",
       "    </tr>\n",
       "  </tbody>\n",
       "</table>\n",
       "</div>"
      ],
      "text/plain": [
       "          Infosys  Indian_Hotel  Mahindra__Mahindra   Axis_Bank        SAIL  \\\n",
       "count  314.000000    314.000000          314.000000  314.000000  314.000000   \n",
       "mean   511.340764    114.560510          636.678344  540.742038   59.095541   \n",
       "std    135.952051     22.509732          102.879975  115.835569   15.810493   \n",
       "min    234.000000     64.000000          284.000000  263.000000   21.000000   \n",
       "25%    424.000000     96.000000          572.000000  470.500000   47.000000   \n",
       "50%    466.500000    115.000000          625.000000  528.000000   57.000000   \n",
       "75%    630.750000    134.000000          678.000000  605.250000   71.750000   \n",
       "max    810.000000    157.000000          956.000000  808.000000  104.000000   \n",
       "\n",
       "       Shree_Cement   Sun_Pharma  Jindal_Steel  Idea_Vodafone  Jet_Airways  \n",
       "count    314.000000   314.000000    314.000000     314.000000   314.000000  \n",
       "mean   14806.410828   633.468153    147.627389      53.713376   372.659236  \n",
       "std     4288.275085   171.855893     65.879195      31.248985   202.262668  \n",
       "min     5543.000000   338.000000     53.000000       3.000000    14.000000  \n",
       "25%    10952.250000   478.500000     88.250000      25.250000   243.250000  \n",
       "50%    16018.500000   614.000000    142.500000      53.000000   376.000000  \n",
       "75%    17773.250000   785.000000    182.750000      82.000000   534.000000  \n",
       "max    24806.000000  1089.000000    338.000000     117.000000   871.000000  "
      ]
     },
     "execution_count": 12,
     "metadata": {},
     "output_type": "execute_result"
    }
   ],
   "source": [
    "stock_prices.describe()"
   ]
  },
  {
   "cell_type": "markdown",
   "metadata": {},
   "source": [
    "<B/><span style=\"font-family:Calibri; font-size:1.2em;\"><font color='blue'/>Lets us plot & see price trend over time for different companies"
   ]
  },
  {
   "cell_type": "markdown",
   "metadata": {},
   "source": [
    "<B/><span style=\"font-family:Calibri; font-size:1.2em;\"><font color='green'/>Year Vs Infosys"
   ]
  },
  {
   "cell_type": "code",
   "execution_count": 13,
   "metadata": {},
   "outputs": [
    {
     "data": {
      "image/png": "[encoded data removed]",
      "text/plain": [
       "<Figure size 720x576 with 1 Axes>"
      ]
     },
     "metadata": {
      "needs_background": "light"
     },
     "output_type": "display_data"
    }
   ],
   "source": [
    "plt.figure(figsize = (10, 8))\n",
    "stock_prices['dates'] = [pd.to_datetime(d) for d in stock_prices['Date']]\n",
    "plt.scatter(stock_prices['dates'], stock_prices['Infosys'], edgecolors='r')\n",
    "plt.xlabel('Year')\n",
    "plt.ylabel('Infosys')\n",
    "plt.title('Year vs Infosys')\n",
    "\n",
    "plt.show()\n"
   ]
  },
  {
   "cell_type": "markdown",
   "metadata": {},
   "source": [
    "<B/><span style=\"font-family:Calibri; font-size:1.2em;\"><font color='green'/>Year vs Mahindra & Mahindra"
   ]
  },
  {
   "cell_type": "code",
   "execution_count": 14,
   "metadata": {},
   "outputs": [
    {
     "data": {
      "image/png": "[encoded data removed]",
      "text/plain": [
       "<Figure size 720x576 with 1 Axes>"
      ]
     },
     "metadata": {
      "needs_background": "light"
     },
     "output_type": "display_data"
    }
   ],
   "source": [
    "plt.figure(figsize = (10, 8))\n",
    "stock_prices['dates'] = [pd.to_datetime(d) for d in stock_prices['Date']]\n",
    "plt.scatter(stock_prices['dates'], stock_prices['Mahindra__Mahindra'], edgecolors='r')\n",
    "plt.xlabel('Year')\n",
    "plt.ylabel('Mahindra__Mahindra')\n",
    "plt.title('Year vs Mahindra__Mahindra')\n",
    "\n",
    "plt.show()"
   ]
  },
  {
   "cell_type": "markdown",
   "metadata": {},
   "source": [
    "<B/><span style=\"font-family:Calibri; font-size:1.2em;\"><font color='green'/>Year VS Axis Bank"
   ]
  },
  {
   "cell_type": "code",
   "execution_count": 15,
   "metadata": {},
   "outputs": [
    {
     "data": {
      "image/png": "[encoded data removed]",
      "text/plain": [
       "<Figure size 720x576 with 1 Axes>"
      ]
     },
     "metadata": {
      "needs_background": "light"
     },
     "output_type": "display_data"
    }
   ],
   "source": [
    "plt.figure(figsize = (10, 8))\n",
    "stock_prices['dates'] = [pd.to_datetime(d) for d in stock_prices['Date']]\n",
    "plt.scatter(stock_prices['dates'], stock_prices['Axis_Bank'], edgecolors='r')\n",
    "plt.xlabel('Year')\n",
    "plt.ylabel('Axis_Bank')\n",
    "plt.title('Year vs Axis_Bank')\n",
    "\n",
    "plt.show()"
   ]
  },
  {
   "cell_type": "markdown",
   "metadata": {},
   "source": [
    "<B/><span style=\"font-family:Calibri; font-size:1.2em;\"><font color='green'/>Year vs Shree Cements"
   ]
  },
  {
   "cell_type": "code",
   "execution_count": 16,
   "metadata": {},
   "outputs": [
    {
     "data": {
      "image/png": "[encoded data removed]",
      "text/plain": [
       "<Figure size 720x576 with 1 Axes>"
      ]
     },
     "metadata": {
      "needs_background": "light"
     },
     "output_type": "display_data"
    }
   ],
   "source": [
    "plt.figure(figsize = (10, 8))\n",
    "stock_prices['dates'] = [pd.to_datetime(d) for d in stock_prices['Date']]\n",
    "plt.scatter(stock_prices['dates'], stock_prices['Shree_Cement'], edgecolors='r')\n",
    "plt.xlabel('Year')\n",
    "plt.ylabel('Shree_Cement')\n",
    "plt.title('Year vs Shree_Cement')\n",
    "\n",
    "plt.show()"
   ]
  },
  {
   "cell_type": "markdown",
   "metadata": {},
   "source": [
    "<B/><span style=\"font-family:Calibri; font-size:1.2em;\"><font color='green'/>Year Vs Jet Airways"
   ]
  },
  {
   "cell_type": "code",
   "execution_count": 17,
   "metadata": {},
   "outputs": [
    {
     "data": {
      "image/png": "[encoded data removed]",
      "text/plain": [
       "<Figure size 720x576 with 1 Axes>"
      ]
     },
     "metadata": {
      "needs_background": "light"
     },
     "output_type": "display_data"
    }
   ],
   "source": [
    "plt.figure(figsize = (10, 8))\n",
    "stock_prices['dates'] = [pd.to_datetime(d) for d in stock_prices['Date']]\n",
    "plt.scatter(stock_prices['dates'], stock_prices['Jet_Airways'], edgecolors='r')\n",
    "plt.xlabel('Year')\n",
    "plt.ylabel('Jet_Airways')\n",
    "plt.title('Year vs Jet_Airways')\n",
    "\n",
    "plt.show()"
   ]
  },
  {
   "cell_type": "markdown",
   "metadata": {},
   "source": [
    "<B/><span style=\"font-family:Calibri; font-size:1.2em;\"><font color='blue'/>Analyzing returns"
   ]
  },
  {
   "cell_type": "code",
   "execution_count": 18,
   "metadata": {},
   "outputs": [],
   "source": [
    "stock_returns = np.log(stock_prices.drop(['Date','dates'],axis=1)).diff(axis = 0, periods = 1)"
   ]
  },
  {
   "cell_type": "markdown",
   "metadata": {},
   "source": [
    "<B/><span style=\"font-family:Calibri; font-size:1.2em;\"><font color='blue'/>Checking the rows & columns of dataset"
   ]
  },
  {
   "cell_type": "code",
   "execution_count": 19,
   "metadata": {},
   "outputs": [
    {
     "data": {
      "text/plain": [
       "(314, 10)"
      ]
     },
     "execution_count": 19,
     "metadata": {},
     "output_type": "execute_result"
    }
   ],
   "source": [
    "stock_returns.shape"
   ]
  },
  {
   "cell_type": "code",
   "execution_count": 20,
   "metadata": {},
   "outputs": [
    {
     "data": {
      "text/html": [
       "<div>\n",
       "<style scoped>\n",
       "    .dataframe tbody tr th:only-of-type {\n",
       "        vertical-align: middle;\n",
       "    }\n",
       "\n",
       "    .dataframe tbody tr th {\n",
       "        vertical-align: top;\n",
       "    }\n",
       "\n",
       "    .dataframe thead th {\n",
       "        text-align: right;\n",
       "    }\n",
       "</style>\n",
       "<table border=\"1\" class=\"dataframe\">\n",
       "  <thead>\n",
       "    <tr style=\"text-align: right;\">\n",
       "      <th></th>\n",
       "      <th>Infosys</th>\n",
       "      <th>Indian_Hotel</th>\n",
       "      <th>Mahindra__Mahindra</th>\n",
       "      <th>Axis_Bank</th>\n",
       "      <th>SAIL</th>\n",
       "      <th>Shree_Cement</th>\n",
       "      <th>Sun_Pharma</th>\n",
       "      <th>Jindal_Steel</th>\n",
       "      <th>Idea_Vodafone</th>\n",
       "      <th>Jet_Airways</th>\n",
       "    </tr>\n",
       "  </thead>\n",
       "  <tbody>\n",
       "    <tr>\n",
       "      <th>0</th>\n",
       "      <td>NaN</td>\n",
       "      <td>NaN</td>\n",
       "      <td>NaN</td>\n",
       "      <td>NaN</td>\n",
       "      <td>NaN</td>\n",
       "      <td>NaN</td>\n",
       "      <td>NaN</td>\n",
       "      <td>NaN</td>\n",
       "      <td>NaN</td>\n",
       "      <td>NaN</td>\n",
       "    </tr>\n",
       "    <tr>\n",
       "      <th>1</th>\n",
       "      <td>-0.026873</td>\n",
       "      <td>-0.014599</td>\n",
       "      <td>0.006572</td>\n",
       "      <td>0.048247</td>\n",
       "      <td>0.028988</td>\n",
       "      <td>0.032831</td>\n",
       "      <td>0.094491</td>\n",
       "      <td>-0.065882</td>\n",
       "      <td>0.011976</td>\n",
       "      <td>0.086112</td>\n",
       "    </tr>\n",
       "    <tr>\n",
       "      <th>2</th>\n",
       "      <td>-0.011742</td>\n",
       "      <td>0.000000</td>\n",
       "      <td>-0.008772</td>\n",
       "      <td>-0.021979</td>\n",
       "      <td>-0.028988</td>\n",
       "      <td>-0.013888</td>\n",
       "      <td>-0.004930</td>\n",
       "      <td>0.000000</td>\n",
       "      <td>-0.011976</td>\n",
       "      <td>-0.078943</td>\n",
       "    </tr>\n",
       "    <tr>\n",
       "      <th>3</th>\n",
       "      <td>-0.003945</td>\n",
       "      <td>0.000000</td>\n",
       "      <td>0.072218</td>\n",
       "      <td>0.047025</td>\n",
       "      <td>0.000000</td>\n",
       "      <td>0.007583</td>\n",
       "      <td>-0.004955</td>\n",
       "      <td>-0.018084</td>\n",
       "      <td>0.000000</td>\n",
       "      <td>0.007117</td>\n",
       "    </tr>\n",
       "    <tr>\n",
       "      <th>4</th>\n",
       "      <td>0.011788</td>\n",
       "      <td>-0.045120</td>\n",
       "      <td>-0.012371</td>\n",
       "      <td>-0.003540</td>\n",
       "      <td>-0.076373</td>\n",
       "      <td>-0.019515</td>\n",
       "      <td>0.011523</td>\n",
       "      <td>-0.140857</td>\n",
       "      <td>-0.049393</td>\n",
       "      <td>-0.148846</td>\n",
       "    </tr>\n",
       "  </tbody>\n",
       "</table>\n",
       "</div>"
      ],
      "text/plain": [
       "    Infosys  Indian_Hotel  Mahindra__Mahindra  Axis_Bank      SAIL  \\\n",
       "0       NaN           NaN                 NaN        NaN       NaN   \n",
       "1 -0.026873     -0.014599            0.006572   0.048247  0.028988   \n",
       "2 -0.011742      0.000000           -0.008772  -0.021979 -0.028988   \n",
       "3 -0.003945      0.000000            0.072218   0.047025  0.000000   \n",
       "4  0.011788     -0.045120           -0.012371  -0.003540 -0.076373   \n",
       "\n",
       "   Shree_Cement  Sun_Pharma  Jindal_Steel  Idea_Vodafone  Jet_Airways  \n",
       "0           NaN         NaN           NaN            NaN          NaN  \n",
       "1      0.032831    0.094491     -0.065882       0.011976     0.086112  \n",
       "2     -0.013888   -0.004930      0.000000      -0.011976    -0.078943  \n",
       "3      0.007583   -0.004955     -0.018084       0.000000     0.007117  \n",
       "4     -0.019515    0.011523     -0.140857      -0.049393    -0.148846  "
      ]
     },
     "execution_count": 20,
     "metadata": {},
     "output_type": "execute_result"
    }
   ],
   "source": [
    "stock_returns.head()"
   ]
  },
  {
   "cell_type": "markdown",
   "metadata": {},
   "source": [
    "<B/><span style=\"font-family:Calibri; font-size:1.2em;\"><font color='blue'/>We now look at Means & Standard Deviations of these returns"
   ]
  },
  {
   "cell_type": "code",
   "execution_count": 21,
   "metadata": {},
   "outputs": [
    {
     "data": {
      "text/plain": [
       "Infosys               0.002794\n",
       "Indian_Hotel          0.000266\n",
       "Mahindra__Mahindra   -0.001506\n",
       "Axis_Bank             0.001167\n",
       "SAIL                 -0.003463\n",
       "Shree_Cement          0.003681\n",
       "Sun_Pharma           -0.001455\n",
       "Jindal_Steel         -0.004123\n",
       "Idea_Vodafone        -0.010608\n",
       "Jet_Airways          -0.009548\n",
       "dtype: float64"
      ]
     },
     "execution_count": 21,
     "metadata": {},
     "output_type": "execute_result"
    }
   ],
   "source": [
    "stock_means = stock_returns.mean(axis = 0)\n",
    "stock_means"
   ]
  },
  {
   "cell_type": "markdown",
   "metadata": {},
   "source": [
    "<B/><span style=\"font-family:Calibri; font-size:1.2em;\"><font color='blue'/>Calculating stock standard deviation"
   ]
  },
  {
   "cell_type": "code",
   "execution_count": 22,
   "metadata": {},
   "outputs": [
    {
     "data": {
      "text/plain": [
       "Infosys               0.035070\n",
       "Indian_Hotel          0.047131\n",
       "Mahindra__Mahindra    0.040169\n",
       "Axis_Bank             0.045828\n",
       "SAIL                  0.062188\n",
       "Shree_Cement          0.039917\n",
       "Sun_Pharma            0.045033\n",
       "Jindal_Steel          0.075108\n",
       "Idea_Vodafone         0.104315\n",
       "Jet_Airways           0.097972\n",
       "dtype: float64"
      ]
     },
     "execution_count": 22,
     "metadata": {},
     "output_type": "execute_result"
    }
   ],
   "source": [
    "stock_sd = stock_returns.std(axis = 0)\n",
    "stock_sd"
   ]
  },
  {
   "cell_type": "markdown",
   "metadata": {},
   "source": [
    "<B/><span style=\"font-family:Calibri; font-size:1.2em;\"><font color='blue'/>Let us plot & see what they say about stock prices"
   ]
  },
  {
   "cell_type": "code",
   "execution_count": 23,
   "metadata": {},
   "outputs": [
    {
     "data": {
      "image/png": "[encoded data removed]",
      "text/plain": [
       "<Figure size 432x288 with 1 Axes>"
      ]
     },
     "metadata": {
      "needs_background": "light"
     },
     "output_type": "display_data"
    }
   ],
   "source": [
    "plt.scatter(stock_means, stock_sd, edgecolors='r')\n",
    "plt.xlabel('stock_means')\n",
    "plt.ylabel('stock_sd')\n",
    "plt.title('stock_means vs stock_sd')\n",
    "plt.show()"
   ]
  },
  {
   "cell_type": "code",
   "execution_count": null,
   "metadata": {},
   "outputs": [],
   "source": []
  }
 ],
 "metadata": {
  "kernelspec": {
   "display_name": "Python 3",
   "language": "python",
   "name": "python3"
  },
  "language_info": {
   "codemirror_mode": {
    "name": "ipython",
    "version": 3
   },
   "file_extension": ".py",
   "mimetype": "text/x-python",
   "name": "python",
   "nbconvert_exporter": "python",
   "pygments_lexer": "ipython3",
   "version": "3.8.5"
  }
 },
 "nbformat": 4,
 "nbformat_minor": 4
}
